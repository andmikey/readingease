{
 "cells": [
  {
   "cell_type": "code",
   "execution_count": 17,
   "metadata": {
    "collapsed": true
   },
   "outputs": [],
   "source": [
    "from nltk.tokenize import sent_tokenize, word_tokenize\n",
    "from syllabipy.sonoripy import SonoriPy as sonor"
   ]
  },
  {
   "cell_type": "code",
   "execution_count": 1,
   "metadata": {
    "collapsed": true
   },
   "outputs": [],
   "source": [
    "def flesch_kincaid(text):\n",
    "        if not text:\n",
    "            return 0\n",
    "        text_words = word_tokenize(text)\n",
    "        text_sentences = sent_tokenize(text)\n",
    "\n",
    "        num_words = len(text_words)\n",
    "        num_sentences = len(text_sentences)\n",
    "        \n",
    "        num_syllables = sum(map(len, map(sonor, text_words)))\n",
    "        \n",
    "        w_sent = num_words / num_sentences\n",
    "        syll_w = num_syllables / num_words\n",
    "        \n",
    "        fk_score = 206.835 - (1.015 * w_sent) - (84.6 * syll_w)\n",
    "        \n",
    "        return fk_score"
   ]
  },
  {
   "cell_type": "code",
   "execution_count": null,
   "metadata": {
    "collapsed": true
   },
   "outputs": [],
   "source": []
  },
  {
   "cell_type": "code",
   "execution_count": 32,
   "metadata": {},
   "outputs": [
    {
     "data": {
      "text/plain": [
       "50.98000000000003"
      ]
     },
     "execution_count": 32,
     "metadata": {},
     "output_type": "execute_result"
    }
   ],
   "source": []
  },
  {
   "cell_type": "code",
   "execution_count": 15,
   "metadata": {
    "collapsed": true
   },
   "outputs": [],
   "source": []
  },
  {
   "cell_type": "code",
   "execution_count": 34,
   "metadata": {
    "collapsed": true
   },
   "outputs": [],
   "source": [
    "gd_text = \"\"\" Nicola Sturgeon has urged Theresa May to ignore her party’s “extreme Brexiteers” and adopt a far more constructive tone with other EU leaders at next week’s summit.\n",
    "\n",
    "In an article for the Guardian, the first minister says May should agree unambiguously to a much longer transition period inside the single market and customs union, and give EU citizens a clear guarantee their rights will be protected. \n",
    "\"\"\""
   ]
  },
  {
   "cell_type": "code",
   "execution_count": 30,
   "metadata": {
    "collapsed": true
   },
   "outputs": [],
   "source": [
    "dm_text = \"\"\"     Selena was named Woman Of The Year by Billboard\n",
    "    The star said in an emotional speech her friend and kidney donor Francia should be getting the honor instead of her \n",
    "    Talking through tears, the 25-year-old said: 'I think Francia should be getting this award. She saved my life… I feel incredibly lucky.' \n",
    "    Selena surprised many with the news of her transplant on September 14 by sharing a photograph of her and Francia in their hospital gowns holding hands\n",
    "    According to the singer Francia volunteered to donate an organ without being asked \"\"\""
   ]
  }
 ],
 "metadata": {
  "kernelspec": {
   "display_name": "Python 3",
   "language": "python",
   "name": "python3"
  },
  "language_info": {
   "codemirror_mode": {
    "name": "ipython",
    "version": 3
   },
   "file_extension": ".py",
   "mimetype": "text/x-python",
   "name": "python",
   "nbconvert_exporter": "python",
   "pygments_lexer": "ipython3",
   "version": "3.6.3"
  }
 },
 "nbformat": 4,
 "nbformat_minor": 2
}
