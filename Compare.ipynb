{
 "cells": [
  {
   "cell_type": "code",
   "execution_count": 192,
   "metadata": {},
   "outputs": [],
   "source": [
    "import nbimporter\n",
    "import ScrapeMail as scrape\n",
    "import FleschKincaid as fk"
   ]
  },
  {
   "cell_type": "code",
   "execution_count": 61,
   "metadata": {},
   "outputs": [],
   "source": [
    "all_rss_link = \"http://www.dailymail.co.uk/home/article-2684527/RSS-Feeds.html\"\n",
    "all_rss = scrape.get_rss_sections(all_rss_link)"
   ]
  },
  {
   "cell_type": "code",
   "execution_count": 84,
   "metadata": {
    "collapsed": true
   },
   "outputs": [],
   "source": [
    "scores = {}"
   ]
  },
  {
   "cell_type": "code",
   "execution_count": 62,
   "metadata": {},
   "outputs": [],
   "source": [
    "l = []\n",
    "for k,v in all_rss[\"Main RSS feeds\"].items():\n",
    "    l.append((k, v))"
   ]
  },
  {
   "cell_type": "code",
   "execution_count": 92,
   "metadata": {},
   "outputs": [
    {
     "name": "stdout",
     "output_type": "stream",
     "text": [
      "('Latest Stories', 'http://www.dailymail.co.uk/articles.rss')\n",
      "('Home', 'http://www.dailymail.co.uk/home/index.rss')\n",
      "('News', 'http://www.dailymail.co.uk/news/index.rss')\n",
      "('U.S.', 'http://www.dailymail.co.uk/ushome/index.rss')\n",
      "('Australia', 'http://www.dailymail.co.uk/auhome/index.rss')\n",
      "('Sport', 'http://www.dailymail.co.uk/sport/index.rss')\n",
      "('TV&Showbiz', 'http://www.dailymail.co.uk/tvshowbiz/index.rss')\n",
      "('Femail', 'http://www.dailymail.co.uk/femail/index.rss')\n",
      "('Health', 'http://www.dailymail.co.uk/health/index.rss')\n",
      "('Science', 'http://www.dailymail.co.uk/sciencetech/index.rss')\n",
      "('Money', 'http://www.dailymail.co.uk/money/index.rss')\n",
      "('Travel', 'http://www.dailymail.co.uk/travel/index.rss')\n",
      "('Video', 'http://www.dailymail.co.uk/video/videos.rss')\n"
     ]
    }
   ],
   "source": [
    "for item in l: print(item)"
   ]
  },
  {
   "cell_type": "markdown",
   "metadata": {},
   "source": [
    "TODO:\n",
    "HOME\n",
    "!NEWS\n",
    "!US\n",
    "!AUSTRALIA\n",
    "!SPORT \n",
    "!TV\n",
    "!FEMAIL\n",
    "!HEALTH \n",
    "!SCIENCE\n",
    "!MONEY\n",
    "TRAVEL"
   ]
  },
  {
   "cell_type": "code",
   "execution_count": 149,
   "metadata": {},
   "outputs": [
    {
     "name": "stdout",
     "output_type": "stream",
     "text": [
      "Travel http://www.dailymail.co.uk/travel/index.rss\n"
     ]
    }
   ],
   "source": [
    "n = 11\n",
    "title = l[n][0]\n",
    "link = l[n][1]\n",
    "print(title, link)"
   ]
  },
  {
   "cell_type": "code",
   "execution_count": 150,
   "metadata": {},
   "outputs": [
    {
     "name": "stdout",
     "output_type": "stream",
     "text": [
      "145\n"
     ]
    }
   ],
   "source": [
    "articles = scrape.get_articles_from_rss(link)\n",
    "art = list(articles)\n",
    "print(len(art))"
   ]
  },
  {
   "cell_type": "code",
   "execution_count": 151,
   "metadata": {},
   "outputs": [],
   "source": [
    "total_score = 0\n",
    "for item in art:\n",
    "    score = fk.flesch_kincaid(item)\n",
    "    total_score += score"
   ]
  },
  {
   "cell_type": "code",
   "execution_count": 152,
   "metadata": {},
   "outputs": [
    {
     "name": "stdout",
     "output_type": "stream",
     "text": [
      "62.481660261475255 Travel\n"
     ]
    }
   ],
   "source": [
    "print(total_score / len(art), title)"
   ]
  },
  {
   "cell_type": "code",
   "execution_count": 153,
   "metadata": {
    "collapsed": true
   },
   "outputs": [],
   "source": [
    "scores[title] = total_score / len(art)"
   ]
  },
  {
   "cell_type": "code",
   "execution_count": 154,
   "metadata": {},
   "outputs": [
    {
     "data": {
      "text/plain": [
       "{'Australia': 62.9659442662273,\n",
       " 'Femail': 63.521995381461366,\n",
       " 'Health': 57.52053348062503,\n",
       " 'Money': 60.946743642914065,\n",
       " 'News': 63.906564374386875,\n",
       " 'Science': 55.87482370945612,\n",
       " 'Sport': 63.77365955651384,\n",
       " 'TV&Showbiz': 68.28013614948861,\n",
       " 'Travel': 62.481660261475255,\n",
       " 'U.S.': 62.576562492140376}"
      ]
     },
     "execution_count": 154,
     "metadata": {},
     "output_type": "execute_result"
    }
   ],
   "source": [
    "scores"
   ]
  },
  {
   "cell_type": "code",
   "execution_count": null,
   "metadata": {
    "collapsed": true
   },
   "outputs": [],
   "source": []
  },
  {
   "cell_type": "code",
   "execution_count": 231,
   "metadata": {
    "collapsed": true
   },
   "outputs": [],
   "source": [
    "rss_feeds = {\"Sport\": \"https://www.theguardian.com/uk/sport/rss\", \n",
    "            \"Science\": \"https://www.theguardian.com/science/rss\",\n",
    "            \"Money\": \"https://www.theguardian.com/uk/money/rss\",\n",
    "            \"TV&Radio\": \"https://www.theguardian.com/uk/tv-and-radio/rss\",\n",
    "            \"Travel\": \"https://www.theguardian.com/uk/travel/rss\", \n",
    "            \"Opinion\": \"https://www.theguardian.com/uk/commentisfree/rss\",\n",
    "            \"News\": \"https://www.theguardian.com/uk/rss\",\n",
    "            \"Health\": \"https://www.theguardian.com/lifeandstyle/health-and-wellbeing/rss\"}"
   ]
  },
  {
   "cell_type": "code",
   "execution_count": 167,
   "metadata": {
    "collapsed": true
   },
   "outputs": [],
   "source": [
    "scores = {}"
   ]
  },
  {
   "cell_type": "code",
   "execution_count": 234,
   "metadata": {},
   "outputs": [],
   "source": [
    "l = []\n",
    "for k,v in rss_feeds.items():\n",
    "    l.append((k, v))"
   ]
  },
  {
   "cell_type": "code",
   "execution_count": 235,
   "metadata": {},
   "outputs": [
    {
     "name": "stdout",
     "output_type": "stream",
     "text": [
      "('Sport', 'https://www.theguardian.com/uk/sport/rss')\n",
      "('Science', 'https://www.theguardian.com/science/rss')\n",
      "('Money', 'https://www.theguardian.com/uk/money/rss')\n",
      "('TV&Radio', 'https://www.theguardian.com/uk/tv-and-radio/rss')\n",
      "('Travel', 'https://www.theguardian.com/uk/travel/rss')\n",
      "('Opinion', 'https://www.theguardian.com/uk/commentisfree/rss')\n",
      "('News', 'https://www.theguardian.com/uk/rss')\n",
      "('Health', 'https://www.theguardian.com/lifeandstyle/health-and-wellbeing/rss')\n"
     ]
    }
   ],
   "source": [
    "for item in l: print(item)"
   ]
  },
  {
   "cell_type": "markdown",
   "metadata": {},
   "source": []
  },
  {
   "cell_type": "code",
   "execution_count": 236,
   "metadata": {},
   "outputs": [
    {
     "name": "stdout",
     "output_type": "stream",
     "text": [
      "Health https://www.theguardian.com/lifeandstyle/health-and-wellbeing/rss\n"
     ]
    }
   ],
   "source": [
    "n = 7\n",
    "title = l[n][0]\n",
    "link = l[n][1]\n",
    "print(title, link)"
   ]
  },
  {
   "cell_type": "code",
   "execution_count": 237,
   "metadata": {},
   "outputs": [
    {
     "name": "stdout",
     "output_type": "stream",
     "text": [
      "https://www.theguardian.com/lifeandstyle/health-and-wellbeing/rss\n"
     ]
    }
   ],
   "source": [
    "print(link)"
   ]
  },
  {
   "cell_type": "code",
   "execution_count": 227,
   "metadata": {},
   "outputs": [
    {
     "ename": "IndexError",
     "evalue": "list index out of range",
     "output_type": "error",
     "traceback": [
      "\u001b[0;31m---------------------------------------------------------------------------\u001b[0m",
      "\u001b[0;31mIndexError\u001b[0m                                Traceback (most recent call last)",
      "\u001b[0;32m<ipython-input-227-c3c4501dd490>\u001b[0m in \u001b[0;36m<module>\u001b[0;34m()\u001b[0m\n\u001b[0;32m----> 1\u001b[0;31m \u001b[0mart\u001b[0m \u001b[0;34m=\u001b[0m \u001b[0mlist\u001b[0m\u001b[0;34m(\u001b[0m\u001b[0mscrape\u001b[0m\u001b[0;34m.\u001b[0m\u001b[0mget_articles_from_rss\u001b[0m\u001b[0;34m(\u001b[0m\u001b[0;34m\"https://www.theguardian.com/uk/commentisfree/rss\"\u001b[0m\u001b[0;34m)\u001b[0m\u001b[0;34m)\u001b[0m\u001b[0;34m\u001b[0m\u001b[0m\n\u001b[0m\u001b[1;32m      2\u001b[0m \u001b[0mtotal_score\u001b[0m \u001b[0;34m=\u001b[0m \u001b[0;36m0\u001b[0m\u001b[0;34m\u001b[0m\u001b[0m\n\u001b[1;32m      3\u001b[0m \u001b[0;32mfor\u001b[0m \u001b[0mitem\u001b[0m \u001b[0;32min\u001b[0m \u001b[0mart\u001b[0m\u001b[0;34m:\u001b[0m\u001b[0;34m\u001b[0m\u001b[0m\n\u001b[1;32m      4\u001b[0m     \u001b[0mscore\u001b[0m \u001b[0;34m=\u001b[0m \u001b[0mfk\u001b[0m\u001b[0;34m.\u001b[0m\u001b[0mflesch_kincaid\u001b[0m\u001b[0;34m(\u001b[0m\u001b[0mitem\u001b[0m\u001b[0;34m)\u001b[0m\u001b[0;34m\u001b[0m\u001b[0m\n\u001b[1;32m      5\u001b[0m     \u001b[0mtotal_score\u001b[0m \u001b[0;34m+=\u001b[0m \u001b[0mscore\u001b[0m\u001b[0;34m\u001b[0m\u001b[0m\n",
      "\u001b[0;32m/home/mikey/projects/localhack2017/ScrapeMail.ipynb\u001b[0m in \u001b[0;36mget_article_text_from_link\u001b[0;34m(url)\u001b[0m\n\u001b[1;32m      4\u001b[0m    \u001b[0;34m\"cell_type\"\u001b[0m\u001b[0;34m:\u001b[0m \u001b[0;34m\"code\"\u001b[0m\u001b[0;34m,\u001b[0m\u001b[0;34m\u001b[0m\u001b[0m\n\u001b[1;32m      5\u001b[0m    \u001b[0;34m\"execution_count\"\u001b[0m\u001b[0;34m:\u001b[0m \u001b[0;36m2\u001b[0m\u001b[0;34m,\u001b[0m\u001b[0;34m\u001b[0m\u001b[0m\n\u001b[0;32m----> 6\u001b[0;31m    \"metadata\": {\n\u001b[0m\u001b[1;32m      7\u001b[0m     \u001b[0;34m\"collapsed\"\u001b[0m\u001b[0;34m:\u001b[0m \u001b[0mtrue\u001b[0m\u001b[0;34m\u001b[0m\u001b[0m\n\u001b[1;32m      8\u001b[0m    },\n",
      "\u001b[0;31mIndexError\u001b[0m: list index out of range"
     ]
    }
   ],
   "source": [
    "art = list(scrape.get_articles_from_rss(\"https://www.theguardian.com/lifeandstyle/health-and-wellbeing/rss\"))\n",
    "total_score = 0\n",
    "for item in art:\n",
    "    score = fk.flesch_kincaid(item)\n",
    "    total_score += score\n",
    "    \n",
    "print(total_score / len(art))"
   ]
  },
  {
   "cell_type": "code",
   "execution_count": null,
   "metadata": {
    "collapsed": true
   },
   "outputs": [],
   "source": []
  },
  {
   "cell_type": "code",
   "execution_count": null,
   "metadata": {},
   "outputs": [],
   "source": [
    "print(total_score / len(art), title)"
   ]
  },
  {
   "cell_type": "code",
   "execution_count": null,
   "metadata": {
    "collapsed": true
   },
   "outputs": [],
   "source": [
    "scores[title] = total_score / len(art)"
   ]
  },
  {
   "cell_type": "code",
   "execution_count": 204,
   "metadata": {
    "collapsed": true
   },
   "outputs": [],
   "source": [
    "scores[\"Sport\"] = 46.56479657808303"
   ]
  },
  {
   "cell_type": "code",
   "execution_count": 201,
   "metadata": {},
   "outputs": [],
   "source": [
    "scores[\"Science\"] = 43.9957302991726"
   ]
  },
  {
   "cell_type": "code",
   "execution_count": 207,
   "metadata": {
    "collapsed": true
   },
   "outputs": [],
   "source": [
    "scores[\"Money\"] = 54.436664093124286"
   ]
  },
  {
   "cell_type": "code",
   "execution_count": 211,
   "metadata": {
    "collapsed": true
   },
   "outputs": [],
   "source": [
    "scores[\"TV&Radio\"] = 59.16366768585517"
   ]
  },
  {
   "cell_type": "code",
   "execution_count": 220,
   "metadata": {
    "collapsed": true
   },
   "outputs": [],
   "source": [
    "scores[\"Travel\"] = 51.464144531633536"
   ]
  },
  {
   "cell_type": "code",
   "execution_count": 224,
   "metadata": {
    "collapsed": true
   },
   "outputs": [],
   "source": [
    "scores[\"Opinion\"] = 47.61009445297772"
   ]
  },
  {
   "cell_type": "code",
   "execution_count": 228,
   "metadata": {
    "collapsed": true
   },
   "outputs": [],
   "source": [
    "scores[\"News\"] = 55.44415110303765\n"
   ]
  },
  {
   "cell_type": "code",
   "execution_count": 238,
   "metadata": {
    "collapsed": true
   },
   "outputs": [],
   "source": [
    "scores[\"Health\"] = 61.2043334698379"
   ]
  },
  {
   "cell_type": "code",
   "execution_count": 244,
   "metadata": {},
   "outputs": [],
   "source": [
    "import pickle\n",
    "pickle.dump(scores, open(\"tg_scores.pb\", \"wb\"))"
   ]
  }
 ],
 "metadata": {
  "kernelspec": {
   "display_name": "Python 3",
   "language": "python",
   "name": "python3"
  },
  "language_info": {
   "codemirror_mode": {
    "name": "ipython",
    "version": 3
   },
   "file_extension": ".py",
   "mimetype": "text/x-python",
   "name": "python",
   "nbconvert_exporter": "python",
   "pygments_lexer": "ipython3",
   "version": "3.6.3"
  }
 },
 "nbformat": 4,
 "nbformat_minor": 2
}
