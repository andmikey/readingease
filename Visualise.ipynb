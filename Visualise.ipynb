{
 "cells": [
  {
   "cell_type": "code",
   "execution_count": 3,
   "metadata": {},
   "outputs": [],
   "source": [
    "import pickle\n",
    "\n",
    "dm_scores = pickle.load(open(\"dm_scores.pb\", \"rb\"))\n",
    "tg_scores = pickle.load(open(\"tg_scores.pb\", \"rb\"))"
   ]
  },
  {
   "cell_type": "code",
   "execution_count": 10,
   "metadata": {},
   "outputs": [
    {
     "data": {
      "text/plain": [
       "{'Femail': 63.521995381461366,\n",
       " 'Health': 57.52053348062503,\n",
       " 'Money': 60.946743642914065,\n",
       " 'News': 63.906564374386875,\n",
       " 'Science': 55.87482370945612,\n",
       " 'Sport': 63.77365955651384,\n",
       " 'TV&Showbiz': 68.28013614948861,\n",
       " 'Travel': 62.481660261475255}"
      ]
     },
     "execution_count": 10,
     "metadata": {},
     "output_type": "execute_result"
    }
   ],
   "source": [
    "dm_scores"
   ]
  },
  {
   "cell_type": "code",
   "execution_count": 6,
   "metadata": {},
   "outputs": [
    {
     "data": {
      "text/plain": [
       "{'Health': 61.2043334698379,\n",
       " 'Money': 54.436664093124286,\n",
       " 'News': 55.44415110303765,\n",
       " 'Opinion': 47.61009445297772,\n",
       " 'Science': 43.9957302991726,\n",
       " 'Sport': 46.56479657808303,\n",
       " 'TV&Radio': 59.16366768585517,\n",
       " 'Travel': 51.464144531633536}"
      ]
     },
     "execution_count": 6,
     "metadata": {},
     "output_type": "execute_result"
    }
   ],
   "source": [
    "tg_scores"
   ]
  },
  {
   "cell_type": "code",
   "execution_count": 19,
   "metadata": {
    "collapsed": true
   },
   "outputs": [],
   "source": [
    "import matplotlib.pyplot as plt\n",
    "import numpy as np"
   ]
  },
  {
   "cell_type": "code",
   "execution_count": 17,
   "metadata": {},
   "outputs": [],
   "source": [
    "# Set up lists - health, money, news, science, sport, tv, travel, 'special'\n",
    "types = [\"Health\", \"Money\", \"News\", \"Science\", \"Sport\", \"TV&Radio\", \"Travel\"]\n",
    "guardian_list = []\n",
    "for t in types:\n",
    "    guardian_list.append(tg_scores[t])\n",
    "    \n",
    "guardian_list.append(tg_scores[\"Opinion\"])"
   ]
  },
  {
   "cell_type": "code",
   "execution_count": 18,
   "metadata": {},
   "outputs": [],
   "source": [
    "# Set up lists - health, money, news, science, sport, tv, travel, 'special'\n",
    "types = [\"Health\", \"Money\", \"News\", \"Science\", \"Sport\", \"TV&Showbiz\", \"Travel\"]\n",
    "dm_list = []\n",
    "for t in types:\n",
    "    dm_list.append(dm_scores[t])\n",
    "    \n",
    "dm_list.append(dm_scores[\"Femail\"])"
   ]
  },
  {
   "cell_type": "markdown",
   "metadata": {},
   "source": [
    "Code from https://matplotlib.org/examples/api/barchart_demo.html"
   ]
  },
  {
   "cell_type": "code",
   "execution_count": 103,
   "metadata": {},
   "outputs": [],
   "source": [
    "ind = np.arange(len(dm_list))\n",
    "width = 0.35"
   ]
  },
  {
   "cell_type": "code",
   "execution_count": 104,
   "metadata": {
    "collapsed": true
   },
   "outputs": [],
   "source": [
    "fig, ax = plt.subplots(figsize = (18, 10))"
   ]
  },
  {
   "cell_type": "code",
   "execution_count": 105,
   "metadata": {},
   "outputs": [],
   "source": [
    "rects_dm = ax.bar(ind, dm_list, width, color='r')\n",
    "rects_tg = ax.bar(ind + width, guardian_list, width, color='b')"
   ]
  },
  {
   "cell_type": "code",
   "execution_count": 106,
   "metadata": {},
   "outputs": [
    {
     "data": {
      "text/plain": [
       "<matplotlib.legend.Legend at 0x7f2d6417e4a8>"
      ]
     },
     "execution_count": 106,
     "metadata": {},
     "output_type": "execute_result"
    }
   ],
   "source": [
    "ax.set_ylabel('Flesch reading ease (higher is easier)')\n",
    "ax.set_title('Reading ease of The Daily Mail and The Guardian')\n",
    "ax.set_xticks(ind + width / 2)\n",
    "ax.set_xticklabels((\"Health\", \"Money\", \"News\", \"Science\", \"Sport\", \"TV\", \"Travel\", \"News\", \"Special\"))\n",
    "ax.legend((rects_dm[0], rects_tg[0]), (\"Daily Mail\", \"The Guardian\"))"
   ]
  },
  {
   "cell_type": "code",
   "execution_count": 107,
   "metadata": {
    "collapsed": true
   },
   "outputs": [],
   "source": [
    "def autolabel(rects):\n",
    "    \"\"\"\n",
    "    Attach a text label above each bar displaying its height\n",
    "    \"\"\"\n",
    "    for rect in rects:\n",
    "        height = rect.get_height()\n",
    "        ax.text(rect.get_x() + rect.get_width()/2., height,\n",
    "                '%d' % int(height),\n",
    "                ha='center', va='bottom')"
   ]
  },
  {
   "cell_type": "code",
   "execution_count": 108,
   "metadata": {},
   "outputs": [],
   "source": [
    "autolabel(rects_dm)\n",
    "autolabel(rects_tg)"
   ]
  },
  {
   "cell_type": "code",
   "execution_count": 109,
   "metadata": {
    "scrolled": true
   },
   "outputs": [
    {
     "data": {
      "image/png": "[encoded data removed]",
      "text/plain": [
       "<matplotlib.figure.Figure at 0x7f2d642b3b38>"
      ]
     },
     "metadata": {},
     "output_type": "display_data"
    }
   ],
   "source": [
    "plt.show()"
   ]
  },
  {
   "cell_type": "code",
   "execution_count": null,
   "metadata": {
    "collapsed": true
   },
   "outputs": [],
   "source": []
  }
 ],
 "metadata": {
  "kernelspec": {
   "display_name": "Python 3",
   "language": "python",
   "name": "python3"
  },
  "language_info": {
   "codemirror_mode": {
    "name": "ipython",
    "version": 3
   },
   "file_extension": ".py",
   "mimetype": "text/x-python",
   "name": "python",
   "nbconvert_exporter": "python",
   "pygments_lexer": "ipython3",
   "version": "3.6.3"
  }
 },
 "nbformat": 4,
 "nbformat_minor": 2
}
